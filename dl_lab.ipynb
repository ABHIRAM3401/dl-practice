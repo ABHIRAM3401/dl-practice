{
 "cells": [
  {
   "cell_type": "code",
   "execution_count": 1,
   "metadata": {},
   "outputs": [],
   "source": [
    "import numpy as np\n",
    "from sklearn.model_selection import train_test_split\n",
    "from sklearn.preprocessing import StandardScaler"
   ]
  },
  {
   "cell_type": "code",
   "execution_count": null,
   "metadata": {},
   "outputs": [],
   "source": []
  },
  {
   "cell_type": "code",
   "execution_count": 2,
   "metadata": {},
   "outputs": [],
   "source": [
    "ss = 5000 #size of sample is 5k\n",
    "trans_amt = np.random.uniform(10,10000,ss)\n",
    "customer_age = np.random.randint(18,80,ss)\n",
    "num_prev_trans= np.random.randint(1,50,ss)\n",
    "loc_mismatch = np.random.choice([0,1],ss)\n",
    "time_of_day = np.random.randint(0,24,ss)\n",
    "is_repeat_offender = np.random.choice([0,1],ss,p=[0.9,0.1])\n",
    "recent_fraud_flag = np.random.choice([0,1],ss,p=[0.8,0.2])"
   ]
  },
  {
   "cell_type": "code",
   "execution_count": 3,
   "metadata": {},
   "outputs": [],
   "source": [
    "temp = []\n",
    "for i in range(ss):\n",
    "    if (trans_amt[i]>5000 and loc_mismatch[i]==1 and time_of_day[i]>20) or is_repeat_offender[i] == 1 or recent_fraud_flag[i] == 1:\n",
    "        temp.append(1)\n",
    "    else:\n",
    "        temp.append(0)\n",
    "fraud_status = (np.asarray(temp)).reshape(-1,1)"
   ]
  },
  {
   "cell_type": "code",
   "execution_count": 4,
   "metadata": {},
   "outputs": [],
   "source": [
    "x = np.column_stack([trans_amt,customer_age,num_prev_trans,loc_mismatch,time_of_day,is_repeat_offender,recent_fraud_flag])"
   ]
  },
  {
   "cell_type": "code",
   "execution_count": 6,
   "metadata": {},
   "outputs": [
    {
     "data": {
      "text/plain": [
       "array([[8.02796178e+03, 5.50000000e+01, 4.40000000e+01, 1.00000000e+00,\n",
       "        4.00000000e+00, 0.00000000e+00, 0.00000000e+00],\n",
       "       [7.27128904e+03, 3.70000000e+01, 2.20000000e+01, 0.00000000e+00,\n",
       "        4.00000000e+00, 0.00000000e+00, 0.00000000e+00],\n",
       "       [9.32874930e+03, 4.20000000e+01, 2.90000000e+01, 1.00000000e+00,\n",
       "        1.30000000e+01, 0.00000000e+00, 0.00000000e+00],\n",
       "       [8.78304750e+03, 6.30000000e+01, 2.10000000e+01, 0.00000000e+00,\n",
       "        3.00000000e+00, 1.00000000e+00, 0.00000000e+00],\n",
       "       [5.96484369e+03, 4.60000000e+01, 1.50000000e+01, 1.00000000e+00,\n",
       "        1.80000000e+01, 0.00000000e+00, 0.00000000e+00]])"
      ]
     },
     "execution_count": 6,
     "metadata": {},
     "output_type": "execute_result"
    }
   ],
   "source": [
    "x[0:5,]"
   ]
  },
  {
   "cell_type": "code",
   "execution_count": 7,
   "metadata": {},
   "outputs": [
    {
     "data": {
      "text/plain": [
       "(5000, 7)"
      ]
     },
     "execution_count": 7,
     "metadata": {},
     "output_type": "execute_result"
    }
   ],
   "source": [
    "x.shape"
   ]
  },
  {
   "cell_type": "code",
   "execution_count": 6,
   "metadata": {},
   "outputs": [],
   "source": [
    "X_train,X_test,y_train,y_test = train_test_split(x,fraud_status,test_size=0.2,random_state=42)"
   ]
  },
  {
   "cell_type": "code",
   "execution_count": 24,
   "metadata": {},
   "outputs": [],
   "source": [
    "s = StandardScaler()\n",
    "X_train = s.fit_transform(X_train)\n",
    "x_test = s.transform(X_test)"
   ]
  },
  {
   "cell_type": "code",
   "execution_count": 25,
   "metadata": {},
   "outputs": [
    {
     "data": {
      "text/plain": [
       "array([[ 0.03399955, -0.39650951,  1.26141618,  0.99501244],\n",
       "       [ 1.46265547, -0.72879165,  0.55175869, -1.00501256],\n",
       "       [-1.33652901,  1.70794404, -0.29983029,  0.99501244],\n",
       "       [-0.83024873,  0.04653334, -1.00948777,  0.99501244],\n",
       "       [ 0.09450907,  0.1019137 ,  0.76465594, -1.00501256]])"
      ]
     },
     "execution_count": 25,
     "metadata": {},
     "output_type": "execute_result"
    }
   ],
   "source": [
    "X_train[0:5,:4]"
   ]
  },
  {
   "cell_type": "code",
   "execution_count": 18,
   "metadata": {},
   "outputs": [
    {
     "data": {
      "text/plain": [
       "array([[-0.60003941, -1.55949699, -0.65465903, -1.00501256],\n",
       "       [-1.7075693 , -1.50411664, -0.37079603, -1.00501256],\n",
       "       [-1.13718386,  1.32028154,  0.33886145, -1.00501256],\n",
       "       [ 0.06396518,  0.65571727,  0.55175869, -1.00501256],\n",
       "       [-0.0189542 ,  0.1019137 ,  0.55175869, -1.00501256]])"
      ]
     },
     "execution_count": 18,
     "metadata": {},
     "output_type": "execute_result"
    }
   ],
   "source": [
    "x_test[0:5,0:4]"
   ]
  },
  {
   "cell_type": "code",
   "execution_count": 27,
   "metadata": {},
   "outputs": [
    {
     "data": {
      "text/plain": [
       "array([[ 3.34785324e+03,  2.00000000e+01,  1.60000000e+01,\n",
       "        -8.53206394e-17],\n",
       "       [ 1.85883167e+02,  2.10000000e+01,  2.00000000e+01,\n",
       "        -8.53206394e-17],\n",
       "       [ 1.81431931e+03,  7.20000000e+01,  3.00000000e+01,\n",
       "        -8.53206394e-17],\n",
       "       [ 5.24356971e+03,  6.00000000e+01,  3.30000000e+01,\n",
       "        -8.53206394e-17],\n",
       "       [ 5.00683694e+03,  5.00000000e+01,  3.30000000e+01,\n",
       "        -8.53206394e-17]])"
      ]
     },
     "execution_count": 27,
     "metadata": {},
     "output_type": "execute_result"
    }
   ],
   "source": [
    "x_test[0:5,0:4]"
   ]
  },
  {
   "cell_type": "code",
   "execution_count": 29,
   "metadata": {},
   "outputs": [],
   "source": [
    "np.random.seed(42)\n",
    "w1 = np.random.randn(7, 10) * 0.1  # (7, 10)\n",
    "b1 = np.zeros((1, 10))  # (1, 10) to match hidden layer\n",
    "\n",
    "w2 = np.random.randn(10, 1) * 0.1  # (10, 1) to map 10 hidden units to 1 output\n",
    "b2 = np.zeros((1, 1))  # (1, 1)\n"
   ]
  },
  {
   "cell_type": "code",
   "execution_count": 30,
   "metadata": {},
   "outputs": [
    {
     "data": {
      "text/plain": [
       "array([[ 0.04967142, -0.01382643,  0.06476885,  0.15230299, -0.02341534,\n",
       "        -0.0234137 ,  0.15792128,  0.07674347, -0.04694744,  0.054256  ],\n",
       "       [-0.04634177, -0.04657298,  0.02419623, -0.19132802, -0.17249178,\n",
       "        -0.05622875, -0.10128311,  0.03142473, -0.09080241, -0.14123037],\n",
       "       [ 0.14656488, -0.02257763,  0.00675282, -0.14247482, -0.05443827,\n",
       "         0.01109226, -0.11509936,  0.0375698 , -0.06006387, -0.02916937],\n",
       "       [-0.06017066,  0.18522782, -0.00134972, -0.10577109,  0.08225449,\n",
       "        -0.12208436,  0.02088636, -0.19596701, -0.1328186 ,  0.01968612],\n",
       "       [ 0.07384666,  0.01713683, -0.01156483, -0.03011037, -0.1478522 ,\n",
       "        -0.07198442, -0.04606388,  0.10571222,  0.03436183, -0.17630402],\n",
       "       [ 0.0324084 , -0.03850823, -0.0676922 ,  0.06116763,  0.10309995,\n",
       "         0.09312801, -0.08392175, -0.03092124,  0.03312634,  0.09755451],\n",
       "       [-0.04791742, -0.0185659 , -0.1106335 , -0.11962066,  0.08125258,\n",
       "         0.135624  , -0.00720101,  0.10035329,  0.0361636 , -0.06451198]])"
      ]
     },
     "execution_count": 30,
     "metadata": {},
     "output_type": "execute_result"
    }
   ],
   "source": [
    "w1"
   ]
  },
  {
   "cell_type": "code",
   "execution_count": null,
   "metadata": {},
   "outputs": [],
   "source": [
    "def relu(x):\n",
    "    return np.maximum(0,x)\n",
    "def relu_derivative(x):\n",
    "    # if x>0:\n",
    "    #     return 1\n",
    "    # else:\n",
    "    #     return 0\n",
    "    return (x>0).astype(float)  #x>0 returns a boolean value i.e. True or False , here that is converted into float"
   ]
  },
  {
   "cell_type": "code",
   "execution_count": 10,
   "metadata": {},
   "outputs": [],
   "source": [
    "def sigmoid(z):\n",
    "    return 1/(1 + np.exp(-z))\n",
    "def sigmoid_derivative(z):\n",
    "    s=sigmoid(z)\n",
    "    return s*(1-s)"
   ]
  },
  {
   "cell_type": "code",
   "execution_count": 11,
   "metadata": {},
   "outputs": [],
   "source": [
    "learning_rate = 0.01\n",
    "epochs = 5000"
   ]
  },
  {
   "cell_type": "code",
   "execution_count": 12,
   "metadata": {},
   "outputs": [
    {
     "name": "stdout",
     "output_type": "stream",
     "text": [
      "Epoch 0, Loss: 0.7001\n",
      "Epoch 100, Loss: 0.6541\n",
      "Epoch 200, Loss: 0.6205\n",
      "Epoch 300, Loss: 0.5899\n",
      "Epoch 400, Loss: 0.5549\n",
      "Epoch 500, Loss: 0.5090\n",
      "Epoch 600, Loss: 0.4484\n",
      "Epoch 700, Loss: 0.3768\n",
      "Epoch 800, Loss: 0.3055\n",
      "Epoch 900, Loss: 0.2456\n",
      "Epoch 1000, Loss: 0.2006\n",
      "Epoch 1100, Loss: 0.1685\n",
      "Epoch 1200, Loss: 0.1458\n",
      "Epoch 1300, Loss: 0.1296\n",
      "Epoch 1400, Loss: 0.1178\n",
      "Epoch 1500, Loss: 0.1088\n",
      "Epoch 1600, Loss: 0.1018\n",
      "Epoch 1700, Loss: 0.0961\n",
      "Epoch 1800, Loss: 0.0914\n",
      "Epoch 1900, Loss: 0.0874\n",
      "Epoch 2000, Loss: 0.0839\n",
      "Epoch 2100, Loss: 0.0809\n",
      "Epoch 2200, Loss: 0.0782\n",
      "Epoch 2300, Loss: 0.0757\n",
      "Epoch 2400, Loss: 0.0735\n",
      "Epoch 2500, Loss: 0.0715\n",
      "Epoch 2600, Loss: 0.0696\n",
      "Epoch 2700, Loss: 0.0679\n",
      "Epoch 2800, Loss: 0.0664\n",
      "Epoch 2900, Loss: 0.0650\n",
      "Epoch 3000, Loss: 0.0636\n",
      "Epoch 3100, Loss: 0.0624\n",
      "Epoch 3200, Loss: 0.0613\n",
      "Epoch 3300, Loss: 0.0603\n",
      "Epoch 3400, Loss: 0.0593\n",
      "Epoch 3500, Loss: 0.0584\n",
      "Epoch 3600, Loss: 0.0576\n",
      "Epoch 3700, Loss: 0.0568\n",
      "Epoch 3800, Loss: 0.0560\n",
      "Epoch 3900, Loss: 0.0553\n",
      "Epoch 4000, Loss: 0.0546\n",
      "Epoch 4100, Loss: 0.0540\n",
      "Epoch 4200, Loss: 0.0534\n",
      "Epoch 4300, Loss: 0.0528\n",
      "Epoch 4400, Loss: 0.0522\n",
      "Epoch 4500, Loss: 0.0517\n",
      "Epoch 4600, Loss: 0.0512\n",
      "Epoch 4700, Loss: 0.0507\n",
      "Epoch 4800, Loss: 0.0502\n",
      "Epoch 4900, Loss: 0.0497\n"
     ]
    }
   ],
   "source": [
    "for i in range (epochs):\n",
    "    # forward propagation\n",
    "    z1 = np.dot(X_train,w1)+b1\n",
    "    a1 = relu(z1)\n",
    "    z2 = np.dot(a1,w2)+b2\n",
    "    a2 = sigmoid(z2)\n",
    "\n",
    "    # loss function\n",
    "    loss = -np.mean(y_train*np.log(a2) + (1-y_train)*np.log(1-a2))\n",
    "\n",
    "    # backward propagation\n",
    "    dz2 = a2-y_train\n",
    "    dw2 = np.dot(a1.T,dz2)/len(y_train)\n",
    "    db2 = np.sum(dz2,axis=0,keepdims=True)/len(y_train)\n",
    "    da1 = np.dot(dz2,w2.T)\n",
    "    dz1 = da1 * relu_derivative(z1)\n",
    "    dw1 = np.dot(X_train.T,dz1)/len(y_train)\n",
    "    db1 = np.sum(dz1,axis=0,keepdims=True)/len(y_train)\n",
    "\n",
    "    # update weights and biases\n",
    "    w2 -= learning_rate * dw2\n",
    "    b2 -= learning_rate * db2\n",
    "    w1 -= learning_rate * dw1\n",
    "    b1 -= learning_rate * db1\n",
    "\n",
    "    # print loss for every 1000 epochs\n",
    "    if i % 100 == 0:\n",
    "        print(f\"Epoch {i}, Loss: {loss:.4f}\")"
   ]
  },
  {
   "cell_type": "code",
   "execution_count": 13,
   "metadata": {},
   "outputs": [
    {
     "name": "stdout",
     "output_type": "stream",
     "text": [
      "\n",
      " Testing results:\n",
      "Input: [6.56408815e+03 4.30000000e+01 6.00000000e+00 0.00000000e+00\n",
      " 3.00000000e+00 0.00000000e+00 1.00000000e+00], Predicted: 1.0000, Actual: 1\n"
     ]
    }
   ],
   "source": [
    "# Prediction\n",
    "print(\"\\n Testing results:\")\n",
    "for i in range(len(X_test)):\n",
    "    z1 = np.dot(X_test[i],w1)+b1\n",
    "    a1 = relu(z1)\n",
    "    z2 = np.dot(a1,w2)+b2\n",
    "    a2 = sigmoid(z2)\n",
    "print(f\"Input: {X_test[i]}, Predicted: {a2[0][0]:.4f}, Actual: {y_test[i][0]}\")"
   ]
  },
  {
   "cell_type": "code",
   "execution_count": 14,
   "metadata": {},
   "outputs": [
    {
     "name": "stdout",
     "output_type": "stream",
     "text": [
      "Test Accuracy: 32.00%\n"
     ]
    }
   ],
   "source": [
    "# Forward pass on test data\n",
    "z1_test = np.dot(X_test, w1) + b1\n",
    "a1_test = relu(z1_test)\n",
    "z2_test = np.dot(a1_test, w2) + b2\n",
    "a2_test = sigmoid(z2_test)  # Predicted probabilities\n",
    "\n",
    "# Convert probabilities to binary predictions (threshold = 0.5)\n",
    "y_pred = (a2_test >= 0.5).astype(int)\n",
    "\n",
    "# Calculate accuracy\n",
    "accuracy = np.mean(y_pred == y_test) * 100\n",
    "print(f\"Test Accuracy: {accuracy:.2f}%\")\n"
   ]
  },
  {
   "cell_type": "code",
   "execution_count": null,
   "metadata": {},
   "outputs": [],
   "source": []
  }
 ],
 "metadata": {
  "kernelspec": {
   "display_name": "base",
   "language": "python",
   "name": "python3"
  },
  "language_info": {
   "codemirror_mode": {
    "name": "ipython",
    "version": 3
   },
   "file_extension": ".py",
   "mimetype": "text/x-python",
   "name": "python",
   "nbconvert_exporter": "python",
   "pygments_lexer": "ipython3",
   "version": "3.8.20"
  }
 },
 "nbformat": 4,
 "nbformat_minor": 2
}
